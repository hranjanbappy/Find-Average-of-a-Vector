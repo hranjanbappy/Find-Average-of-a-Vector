{
  "nbformat": 4,
  "nbformat_minor": 0,
  "metadata": {
    "colab": {
      "name": " Average of a vector.ipynb",
      "provenance": [],
      "collapsed_sections": []
    },
    "kernelspec": {
      "name": "python3",
      "display_name": "Python 3"
    },
    "language_info": {
      "name": "python"
    }
  },
  "cells": [
    {
      "cell_type": "code",
      "metadata": {
        "colab": {
          "base_uri": "https://localhost:8080/"
        },
        "id": "Vx-o7TO2u55r",
        "outputId": "e90d7d1b-1f08-4ad8-bca4-99248ad47eee"
      },
      "source": [
        "## This code will calculate the average of any vector colleting input form user\n",
        "\n",
        "#Taking vector inputs\n",
        "vector_list = []\n",
        "n = int (input(\"Enter the list size \"))\n",
        "\n",
        "print(\"\\n\")\n",
        "\n",
        "#Loop for user friendly input interface\n",
        "for i in range(0, n):\n",
        "    print(\"Enter number at index\", i, )\n",
        "    item = int(input())\n",
        "    vector_list.append(item)\n",
        "\n",
        "#Average is calculated here\n",
        "avg = sum(vector_list)/len(vector_list)\n",
        "\n",
        "#Print out the final result with the input vector\n",
        "print(\"User input vector is \", vector_list)\n",
        "print(\"The average is \", round(avg,2))"
      ],
      "execution_count": 26,
      "outputs": [
        {
          "output_type": "stream",
          "text": [
            "Enter the list size 2\n",
            "\n",
            "\n",
            "Enter number at index 0\n",
            "1\n",
            "Enter number at index 1\n",
            "2\n",
            "User input vector is  [1, 2]\n",
            "The average is  1.5\n"
          ],
          "name": "stdout"
        }
      ]
    },
    {
      "cell_type": "code",
      "metadata": {
        "id": "AXsgWh19wDcc"
      },
      "source": [
        ""
      ],
      "execution_count": null,
      "outputs": []
    }
  ]
}